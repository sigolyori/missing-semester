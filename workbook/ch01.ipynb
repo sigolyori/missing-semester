{
 "cells": [
  {
   "cell_type": "markdown",
   "metadata": {},
   "source": [
    "Missing semester의 첫 연습 문제를 풀어보겠습니다. Jupyter notebook에서 `!` 커맨드를 활용하여 내용을 기록하겠습니다."
   ]
  },
  {
   "cell_type": "markdown",
   "metadata": {},
   "source": [
    "1. /tmp에 missing이라는 새로운 경로를 만들어 보세요 ."
   ]
  },
  {
   "cell_type": "code",
   "execution_count": 12,
   "metadata": {},
   "outputs": [
    {
     "name": "stdout",
     "output_type": "stream",
     "text": [
      "/private/tmp\n"
     ]
    }
   ],
   "source": [
    "%cd /tmp"
   ]
  },
  {
   "cell_type": "markdown",
   "metadata": {},
   "source": [
    "`!cd`가 작동하지 않기 때문에, `%cd`로 대체하여 사용했습니다."
   ]
  },
  {
   "cell_type": "code",
   "execution_count": 13,
   "metadata": {},
   "outputs": [
    {
     "name": "stdout",
     "output_type": "stream",
     "text": [
      "/private/tmp\n"
     ]
    }
   ],
   "source": [
    "!pwd"
   ]
  },
  {
   "cell_type": "code",
   "execution_count": 14,
   "metadata": {},
   "outputs": [],
   "source": [
    "!mkdir missing"
   ]
  },
  {
   "cell_type": "markdown",
   "metadata": {},
   "source": [
    "2. touch라는 프로그램을 관찰해보세요. man 프로그램이 도움이 될겁니다."
   ]
  },
  {
   "cell_type": "code",
   "execution_count": 11,
   "metadata": {},
   "outputs": [
    {
     "name": "stdout",
     "output_type": "stream",
     "text": [
      "TOUCH(1)                     General Commands Manual                    TOUCH(1)\n",
      "\n",
      "NAME\n",
      "     touch – change file access and modification times\n",
      "\n",
      "SYNOPSIS\n",
      "     touch [-A [-][[hh]mm]SS] [-achm] [-r file] [-t [[CC]YY]MMDDhhmm[.SS]]\n",
      "           [-d YYYY-MM-DDThh:mm:SS[.frac][tz]] file ...\n",
      "\n",
      "DESCRIPTION\n",
      "     The touch utility sets the modification and access times of files.  If any\n",
      "     file does not exist, it is created with default permissions.\n",
      "\n",
      "     By default, touch changes both modification and access times.  The -a and\n",
      "     -m flags may be used to select the access time or the modification time\n",
      "     individually.  Selecting both is equivalent to the default.  By default,\n",
      "     the timestamps are set to the current time.  The -d and -t flags explicitly\n",
      "     specify a different time, and the -r flag specifies to set the times those\n",
      "     of the specified file.  The -A flag adjusts the values by a specified\n",
      "     amount.\n",
      "\n",
      "     The following options are available:\n",
      "\n",
      "     -A      Adjust the access and modification time stamps for the file by the\n",
      "             specified value.  This flag is intended for use in modifying files\n",
      "             with incorrectly set time stamps.\n",
      "\n",
      "             The argument is of the form “[-][[hh]mm]SS” where each pair of\n",
      "             letters represents the following:\n",
      "\n",
      "                   -       Make the adjustment negative: the new time stamp is\n",
      "                           set to be before the old one.\n",
      "                   hh      The number of hours, from 00 to 99.\n",
      "                   mm      The number of minutes, from 00 to 59.\n",
      "                   SS      The number of seconds, from 00 to 59.\n",
      "\n",
      "             The -A flag implies the -c flag: if any file specified does not\n",
      "             exist, it will be silently ignored.\n",
      "\n",
      "     -a      Change the access time of the file.  The modification time of the\n",
      "             file is not changed unless the -m flag is also specified.\n",
      "\n",
      "     -c      Do not create the file if it does not exist.  The touch utility\n",
      "             does not treat this as an error.  No error messages are displayed\n",
      "             and the exit value is not affected.\n",
      "\n",
      "     -d      Change the access and modification times to the specified date time\n",
      "             instead of the current time of day.  The argument is of the form\n",
      "             “YYYY-MM-DDThh:mm:SS[.frac][tz]” where the letters represent the\n",
      "             following:\n",
      "                   YYYY    At least four decimal digits representing the year.\n",
      "                   MM, DD, hh, mm, SS\n",
      "                           As with -t time.\n",
      "                   T       The letter T or a space is the time designator.\n",
      "                   .frac   An optional fraction, consisting of a period or a\n",
      "                           comma followed by one or more digits.  The number of\n",
      "                           significant digits depends on the kernel\n",
      "                           configuration and the filesystem, and may be zero.\n",
      "                   tz      An optional letter Z indicating the time is in UTC.\n",
      "                           Otherwise, the time is assumed to be in local time.\n",
      "                           Local time is affected by the value of the TZ\n",
      "                           environment variable.\n",
      "\n",
      "     -h      If the file is a symbolic link, change the times of the link itself\n",
      "             rather than the file that the link points to.  Note that -h implies\n",
      "             -c and thus will not create any new files.\n",
      "\n",
      "     -m      Change the modification time of the file.  The access time of the\n",
      "             file is not changed unless the -a flag is also specified.\n",
      "\n",
      "     -r      Use the access and modifications times from the specified file\n",
      "             instead of the current time of day.\n",
      "\n",
      "     -t      Change the access and modification times to the specified time\n",
      "             instead of the current time of day.  The argument is of the form\n",
      "             “[[CC]YY]MMDDhhmm[.SS]” where each pair of letters represents the\n",
      "             following:\n",
      "\n",
      "                   CC      The first two digits of the year (the century).\n",
      "                   YY      The second two digits of the year.  If “YY” is\n",
      "                           specified, but “CC” is not, a value for “YY” between\n",
      "                           69 and 99 results in a “CC” value of 19.  Otherwise,\n",
      "                           a “CC” value of 20 is used.\n",
      "                   MM      The month of the year, from 01 to 12.\n",
      "                   DD      the day of the month, from 01 to 31.\n",
      "                   hh      The hour of the day, from 00 to 23.\n",
      "                   mm      The minute of the hour, from 00 to 59.\n",
      "                   SS      The second of the minute, from 00 to 60.\n",
      "\n",
      "             If the “CC” and “YY” letter pairs are not specified, the values\n",
      "             default to the current year.  If the “SS” letter pair is not\n",
      "             specified, the value defaults to 0.\n",
      "\n",
      "EXIT STATUS\n",
      "     The touch utility exits 0 on success, and >0 if an error occurs.\n",
      "\n",
      "COMPATIBILITY\n",
      "     The obsolescent form of touch, where a time format is specified as the\n",
      "     first argument, is supported.  When no -r or -t option is specified, there\n",
      "     are at least two arguments, and the first argument is a string of digits\n",
      "     either eight or ten characters in length, the first argument is interpreted\n",
      "     as a time specification of the form “MMDDhhmm[YY]”.\n",
      "\n",
      "     The “MM”, “DD”, “hh” and “mm” letter pairs are treated as their\n",
      "     counterparts specified to the -t option.  If the “YY” letter pair is in the\n",
      "     range 39 to 99, the year is set to 1939 to 1999, otherwise, the year is set\n",
      "     in the 21st century.\n",
      "\n",
      "SEE ALSO\n",
      "     utimensat(2)\n",
      "\n",
      "STANDARDS\n",
      "     The touch utility is expected to be a superset of the IEEE Std 1003.2\n",
      "     (“POSIX.2”) specification.\n",
      "\n",
      "HISTORY\n",
      "     A touch utility appeared in Version 7 AT&T UNIX.\n",
      "\n",
      "macOS 12.5                        June 1, 2018                        macOS 12.5\n"
     ]
    }
   ],
   "source": [
    "!man touch"
   ]
  },
  {
   "cell_type": "markdown",
   "metadata": {},
   "source": [
    "`touch` 명령어는 파일이 없을 때 새로운 파일을 만들 수 있는 명령어입니다."
   ]
  },
  {
   "cell_type": "markdown",
   "metadata": {},
   "source": [
    "3. touch를 이용해서 semester라는 파일을 missing 안에 만들어 보세요."
   ]
  },
  {
   "cell_type": "code",
   "execution_count": 16,
   "metadata": {},
   "outputs": [
    {
     "name": "stdout",
     "output_type": "stream",
     "text": [
      "/private/tmp/missing\n"
     ]
    }
   ],
   "source": [
    "%cd missing"
   ]
  },
  {
   "cell_type": "code",
   "execution_count": 23,
   "metadata": {},
   "outputs": [],
   "source": [
    "!touch semester"
   ]
  },
  {
   "cell_type": "code",
   "execution_count": 24,
   "metadata": {},
   "outputs": [
    {
     "name": "stdout",
     "output_type": "stream",
     "text": [
      "echo     semester\n"
     ]
    }
   ],
   "source": [
    "!ls"
   ]
  },
  {
   "cell_type": "markdown",
   "metadata": {},
   "source": [
    "4. 아래 주어진 것을 그 파일에 써보세요. 단, 한번에 한줄씩\n",
    "> #!/bin/sh<br>\n",
    "> curl --head --silent https://missing.csail.mit.edu"
   ]
  },
  {
   "cell_type": "code",
   "execution_count": 25,
   "metadata": {},
   "outputs": [],
   "source": [
    "!echo '#!/bin/sh\\n' > semester >> echo 'curl --head --silent https://missing.csail.mit.edu'"
   ]
  },
  {
   "cell_type": "code",
   "execution_count": 26,
   "metadata": {},
   "outputs": [
    {
     "name": "stdout",
     "output_type": "stream",
     "text": [
      "#!/bin/sh\n",
      " curl --head --silent https://missing.csail.mit.edu\n"
     ]
    }
   ],
   "source": [
    "!cat semester"
   ]
  },
  {
   "cell_type": "markdown",
   "metadata": {},
   "source": [
    "`#`, `!` 등은 shell 내에서 특수한 역할을 하는 문자로, 해당 기능으로 사용하는 것이 아닌 문자로 취급하도록 컴퓨터에 알려 주어야 합니다. 위에서는 작은 따옴표(')를 활용하여 문장을 감쌉니다. \n",
    "\n",
    "줄구분은 특수문자인 `\\n`을 사용했으나, 다른 방법이 있는지 확인해 봐야겠습니다."
   ]
  },
  {
   "cell_type": "markdown",
   "metadata": {},
   "source": [
    "5. 파일을 실행해보세요. 예를 들어, (./semester)라는 경로를 셸에 입력해보세요. 이것이 왜 작동하지 않는지 ls를 이용해 파악해보세요. (힌트: 파일의 비트 권한을 확인해보세요.)"
   ]
  },
  {
   "cell_type": "code",
   "execution_count": 35,
   "metadata": {},
   "outputs": [
    {
     "name": "stdout",
     "output_type": "stream",
     "text": [
      "zsh:1: permission denied: ./semester\n"
     ]
    }
   ],
   "source": [
    "!./semester"
   ]
  },
  {
   "cell_type": "markdown",
   "metadata": {},
   "source": [
    "**Permission denied** - 권한이 거부되었습니다. 해당 파일의 권한을 확인하겠습니다."
   ]
  },
  {
   "cell_type": "code",
   "execution_count": 36,
   "metadata": {},
   "outputs": [
    {
     "name": "stdout",
     "output_type": "stream",
     "text": [
      "total 8\n",
      "-rw-r--r--  1 hyk  wheel  62 Dec  8 16:54 semester\n"
     ]
    }
   ],
   "source": [
    "!ls -l"
   ]
  },
  {
   "cell_type": "markdown",
   "metadata": {},
   "source": [
    "첫 문자는 해당 객체가 디렉토리인지 아닌지를 의미합니다. 디렉토리인 경우 첫 문자는 `d`입니다. 이 객체는 디렉토리가 아닙니다. \n",
    "\n",
    "`r`은 읽기 권한, `w`은 쓰기 권한을 나타냅니다. 위에서는 보이지 않으나 `x`는 실행 권한을 의미합니다.\n",
    "\n",
    "세 문자씩 끊어서 파일 소유자의 권한, 소유 그룹의 권한, 다른 모든 사람들의 권한을 의미합니다. `./semester` 명령에도 작동하지 않는 이유는 파일 소유자, 소유 그룹, 다른 모든 사람들 중 실행 권한 `x`를 가진 사람이 없기 때문입니다."
   ]
  },
  {
   "cell_type": "markdown",
   "metadata": {},
   "source": [
    "6. sh 인터프리터로 시작해 명령을 실행하고, semester 파일에 첫 인자로 주세요. (즉 sh semester 이렇게!). ./semester는 안되는데, 앞에 거는 왜 실행이 될까요?"
   ]
  },
  {
   "cell_type": "code",
   "execution_count": 37,
   "metadata": {},
   "outputs": [
    {
     "name": "stdout",
     "output_type": "stream",
     "text": [
      "HTTP/2 200 \n",
      "\u001b[1mserver\u001b[0m: GitHub.com\n",
      "\u001b[1mcontent-type\u001b[0m: text/html; charset=utf-8\n",
      "\u001b[1mlast-modified\u001b[0m: Mon, 05 Dec 2022 15:59:23 GMT\n",
      "\u001b[1maccess-control-allow-origin\u001b[0m: *\n",
      "\u001b[1metag\u001b[0m: \"638e155b-1f37\"\n",
      "\u001b[1mexpires\u001b[0m: Mon, 05 Dec 2022 17:56:30 GMT\n",
      "\u001b[1mcache-control\u001b[0m: max-age=600\n",
      "\u001b[1mx-proxy-cache\u001b[0m: MISS\n",
      "\u001b[1mx-github-request-id\u001b[0m: 3D04:7A94:4B80:17691:638E2E76\n",
      "\u001b[1maccept-ranges\u001b[0m: bytes\n",
      "\u001b[1mdate\u001b[0m: Thu, 08 Dec 2022 08:07:09 GMT\n",
      "\u001b[1mvia\u001b[0m: 1.1 varnish\n",
      "\u001b[1mage\u001b[0m: 0\n",
      "\u001b[1mx-served-by\u001b[0m: cache-nrt-rjtf7700062-NRT\n",
      "\u001b[1mx-cache\u001b[0m: HIT\n",
      "\u001b[1mx-cache-hits\u001b[0m: 1\n",
      "\u001b[1mx-timer\u001b[0m: S1670486829.366512,VS0,VE226\n",
      "\u001b[1mvary\u001b[0m: Accept-Encoding\n",
      "\u001b[1mx-fastly-request-id\u001b[0m: 4c44fa880a52315bef95222f27f437345312a5ee\n",
      "\u001b[1mcontent-length\u001b[0m: 7991\n",
      "\n"
     ]
    }
   ],
   "source": [
    "!sh semester"
   ]
  },
  {
   "cell_type": "markdown",
   "metadata": {},
   "source": [
    "모든 사용자가 읽기 권한 `r`은 가지고 있기 때문에 해당 프로그램을 실행할 수는 있습니다. `./semester` 명령은 해당 폴더에 접속 권한 `x`가 있어야 하기 때문에 실행되지 않았습니다."
   ]
  },
  {
   "cell_type": "markdown",
   "metadata": {},
   "source": [
    "7. chmod 프로그램을 살펴보세요. (man chmod를 사용해보세요.)"
   ]
  },
  {
   "cell_type": "code",
   "execution_count": 38,
   "metadata": {},
   "outputs": [
    {
     "name": "stdout",
     "output_type": "stream",
     "text": [
      "CHMOD(1)                     General Commands Manual                    CHMOD(1)\n",
      "\n",
      "NAME\n",
      "     chmod – change file modes or Access Control Lists\n",
      "\n",
      "SYNOPSIS\n",
      "     chmod [-fhv] [-R [-H | -L | -P]] mode file ...\n",
      "     chmod [-fhv] [-R [-H | -L | -P]] [-a | +a | =a] ACE file ...\n",
      "     chmod [-fhv] [-R [-H | -L | -P]] [-E] file ...\n",
      "     chmod [-fhv] [-R [-H | -L | -P]] [-C] file ...\n",
      "     chmod [-fhv] [-R [-H | -L | -P]] [-N] file ...\n",
      "\n",
      "DESCRIPTION\n",
      "     The chmod utility modifies the file mode bits of the listed files as\n",
      "     specified by the mode operand. It may also be used to modify the Access\n",
      "     Control Lists (ACLs) associated with the listed files.\n",
      "\n",
      "     The generic options are as follows:\n",
      "\n",
      "     -f      Do not display a diagnostic message if chmod could not modify the\n",
      "             mode for file, nor modify the exit status to reflect such failures.\n",
      "\n",
      "     -H      If the -R option is specified, symbolic links on the command line\n",
      "             are followed and hence unaffected by the command.  (Symbolic links\n",
      "             encountered during tree traversal are not followed.)\n",
      "\n",
      "     -h      If the file is a symbolic link, change the mode of the link itself\n",
      "             rather than the file that the link points to.\n",
      "\n",
      "     -L      If the -R option is specified, all symbolic links are followed.\n",
      "\n",
      "     -P      If the -R option is specified, no symbolic links are followed.\n",
      "             This is the default.\n",
      "\n",
      "     -R      Change the modes of the file hierarchies rooted in the files,\n",
      "             instead of just the files themselves.  Beware of unintentionally\n",
      "             matching the “..” hard link to the parent directory when using\n",
      "             wildcards like “.*”.\n",
      "\n",
      "     -v      Cause chmod to be verbose, showing filenames as the mode is\n",
      "             modified.  If the -v flag is specified more than once, the old and\n",
      "             new modes of the file will also be printed, in both octal and\n",
      "             symbolic notation.\n",
      "\n",
      "     The -H, -L and -P options are ignored unless the -R option is specified.\n",
      "     In addition, these options override each other and the command's actions\n",
      "     are determined by the last one specified.\n",
      "\n",
      "     If chmod receives a SIGINFO signal (see the status argument for stty(1)),\n",
      "     then the current filename as well as the old and new modes are displayed.\n",
      "\n",
      "     Only the owner of a file or the super-user is permitted to change the mode\n",
      "     of a file.\n",
      "\n",
      "EXIT STATUS\n",
      "     The chmod utility exits 0 on success, and >0 if an error occurs.\n",
      "\n",
      "MODES\n",
      "     Modes may be absolute or symbolic.  An absolute mode is an octal number\n",
      "     constructed from the sum of one or more of the following values:\n",
      "\n",
      "           4000    (the setuid bit).  Executable files with this bit set will\n",
      "                   run with effective uid set to the uid of the file owner.\n",
      "                   Directories with this bit set will force all files and sub-\n",
      "                   directories created in them to be owned by the directory\n",
      "                   owner and not by the uid of the creating process, if the\n",
      "                   underlying file system supports this feature: see chmod(2)\n",
      "                   and the suiddir option to mount(8).\n",
      "           2000    (the setgid bit).  Executable files with this bit set will\n",
      "                   run with effective gid set to the gid of the file owner.\n",
      "           1000    (the sticky bit).  See chmod(2) and sticky(7).\n",
      "           0400    Allow read by owner.\n",
      "           0200    Allow write by owner.\n",
      "           0100    For files, allow execution by owner.  For directories, allow\n",
      "                   the owner to search in the directory.\n",
      "           0040    Allow read by group members.\n",
      "           0020    Allow write by group members.\n",
      "           0010    For files, allow execution by group members.  For\n",
      "                   directories, allow group members to search in the directory.\n",
      "           0004    Allow read by others.\n",
      "           0002    Allow write by others.\n",
      "           0001    For files, allow execution by others.  For directories allow\n",
      "                   others to search in the directory.\n",
      "\n",
      "     For example, the absolute mode that permits read, write and execute by the\n",
      "     owner, read and execute by group members, read and execute by others, and\n",
      "     no set-uid or set-gid behaviour is 755 (400+200+100+040+010+004+001).\n",
      "\n",
      "     The symbolic mode is described by the following grammar:\n",
      "\n",
      "           mode         ::= clause [, clause ...]\n",
      "           clause       ::= [who ...] [action ...] action\n",
      "           action       ::= op [perm ...]\n",
      "           who          ::= a | u | g | o\n",
      "           op           ::= + | - | =\n",
      "           perm         ::= r | s | t | w | x | X | u | g | o\n",
      "\n",
      "     The who symbols ``u'', ``g'', and ``o'' specify the user, group, and other\n",
      "     parts of the mode bits, respectively.  The who symbol ``a'' is equivalent\n",
      "     to ``ugo''.\n",
      "\n",
      "     The perm symbols represent the portions of the mode bits as follows:\n",
      "\n",
      "           r       The read bits.\n",
      "           s       The set-user-ID-on-execution and set-group-ID-on-execution\n",
      "                   bits.\n",
      "           t       The sticky bit.\n",
      "           w       The write bits.\n",
      "           x       The execute/search bits.\n",
      "           X       The execute/search bits if the file is a directory or any of\n",
      "                   the execute/search bits are set in the original (unmodified)\n",
      "                   mode.  Operations with the perm symbol ``X'' are only\n",
      "                   meaningful in conjunction with the op symbol ``+'', and are\n",
      "                   ignored in all other cases.\n",
      "           u       The user permission bits in the original mode of the file.\n",
      "           g       The group permission bits in the original mode of the file.\n",
      "           o       The other permission bits in the original mode of the file.\n",
      "\n",
      "     The op symbols represent the operation performed, as follows:\n",
      "\n",
      "     +     If no value is supplied for perm, the ``+'' operation has no effect.\n",
      "           If no value is supplied for who, each permission bit specified in\n",
      "           perm, for which the corresponding bit in the file mode creation mask\n",
      "           (see umask(2)) is clear, is set.  Otherwise, the mode bits\n",
      "           represented by the specified who and perm values are set.\n",
      "\n",
      "     -     If no value is supplied for perm, the ``-'' operation has no effect.\n",
      "           If no value is supplied for who, each permission bit specified in\n",
      "           perm, for which the corresponding bit in the file mode creation mask\n",
      "           is set, is cleared.  Otherwise, the mode bits represented by the\n",
      "           specified who and perm values are cleared.\n",
      "\n",
      "     =     The mode bits specified by the who value are cleared, or, if no who\n",
      "           value is specified, the owner, group and other mode bits are cleared.\n",
      "           Then, if no value is supplied for who, each permission bit specified\n",
      "           in perm, for which the corresponding bit in the file mode creation\n",
      "           mask (see umask(2)) is clear, is set.  Otherwise, the mode bits\n",
      "           represented by the specified who and perm values are set.\n",
      "\n",
      "     Each clause specifies one or more operations to be performed on the mode\n",
      "     bits, and each operation is applied to the mode bits in the order\n",
      "     specified.\n",
      "\n",
      "     Operations upon the other permissions only (specified by the symbol ``o''\n",
      "     by itself), in combination with the perm symbols ``s'' or ``t'', are\n",
      "     ignored.\n",
      "\n",
      "     The ``w'' permission on directories will permit file creation, relocation,\n",
      "     and copy into that directory.  Files created within the directory itself\n",
      "     will inherit its group ID.\n",
      "\n",
      "EXAMPLES OF VALID MODES\n",
      "     644           make a file readable by anyone and writable by the owner\n",
      "                   only.\n",
      "\n",
      "     go-w          deny write permission to group and others.\n",
      "\n",
      "     =rw,+X        set the read and write permissions to the usual defaults, but\n",
      "                   retain any execute permissions that are currently set.\n",
      "\n",
      "     +X            make a directory or file searchable/executable by everyone if\n",
      "                   it is already searchable/executable by anyone.\n",
      "\n",
      "     755\n",
      "     u=rwx,go=rx\n",
      "     u=rwx,go=u-w  make a file readable/executable by everyone and writable by\n",
      "                   the owner only.\n",
      "\n",
      "     go=           clear all mode bits for group and others.\n",
      "\n",
      "     g=u-w         set the group bits equal to the user bits, but clear the\n",
      "                   group write bit.\n",
      "\n",
      "ACL MANIPULATION OPTIONS\n",
      "     ACLs are manipulated using extensions to the symbolic mode grammar.  Each\n",
      "     file has one ACL, containing an ordered list of entries.  Each entry refers\n",
      "     to a user or group, and grants or denies a set of permissions.  In cases\n",
      "     where a user and a group exist with the same name, the user/group name can\n",
      "     be prefixed with \"user:\" or \"group:\" in order to specify the type of name.\n",
      "\n",
      "     If the user or group name contains spaces you can use ':' as the delimiter\n",
      "     between name and permission.\n",
      "\n",
      "     The following permissions are applicable to all filesystem objects:\n",
      "           delete  Delete the item.  Deletion may be granted by either this\n",
      "                   permission on an object or the delete_child right on the\n",
      "                   containing directory.\n",
      "           readattr\n",
      "                   Read an object's basic attributes.  This is implicitly\n",
      "                   granted if the object can be looked up and not explicitly\n",
      "                   denied.\n",
      "           writeattr\n",
      "                   Write an object's basic attributes.\n",
      "           readextattr\n",
      "                   Read extended attributes.\n",
      "           writeextattr\n",
      "                   Write extended attributes.\n",
      "           readsecurity\n",
      "                   Read an object's extended security information (ACL).\n",
      "           writesecurity\n",
      "                   Write an object's security information (ownership, mode,\n",
      "                   ACL).\n",
      "           chown   Change an object's ownership.\n",
      "\n",
      "     The following permissions are applicable to directories:\n",
      "           list    List entries.\n",
      "           search  Look up files by name.\n",
      "           add_file\n",
      "                   Add a file.\n",
      "           add_subdirectory\n",
      "                   Add a subdirectory.\n",
      "           delete_child\n",
      "                   Delete a contained object.  See the file delete permission\n",
      "                   above.\n",
      "\n",
      "     The following permissions are applicable to non-directory filesystem\n",
      "     objects:\n",
      "           read    Open for reading.\n",
      "           write   Open for writing.\n",
      "           append  Open for writing, but in a fashion that only allows writes\n",
      "                   into areas of the file not previously written.\n",
      "           execute\n",
      "                   Execute the file as a script or program.\n",
      "\n",
      "     ACL inheritance is controlled with the following permissions words, which\n",
      "     may only be applied to directories:\n",
      "           file_inherit\n",
      "                   Inherit to files.\n",
      "           directory_inherit\n",
      "                   Inherit to directories.\n",
      "           limit_inherit\n",
      "                   This flag is only relevant to entries inherited by\n",
      "                   subdirectories; it causes the directory_inherit flag to be\n",
      "                   cleared in the entry that is inherited, preventing further\n",
      "                   nested subdirectories from also inheriting the entry.\n",
      "           only_inherit\n",
      "                   The entry is inherited by created items but not considered\n",
      "                   when processing the ACL.\n",
      "\n",
      "     The ACL manipulation options are as follows:\n",
      "\n",
      "     +a      The +a mode parses a new ACL entry from the next argument on the\n",
      "             commandline and inserts it into the canonical location in the ACL.\n",
      "             If the supplied entry refers to an identity already listed, the two\n",
      "             entries are combined.\n",
      "\n",
      "             Examples\n",
      "              # ls -le\n",
      "              -rw-r--r--+ 1 juser  wheel  0 Apr 28 14:06 file1\n",
      "              # chmod +a \"admin allow write\" file1\n",
      "              # ls -le\n",
      "              -rw-r--r--+ 1 juser  wheel  0 Apr 28 14:06 file1\n",
      "                owner: juser\n",
      "                1: admin allow write\n",
      "              # chmod +a \"guest deny read\" file1\n",
      "              # ls -le\n",
      "              -rw-r--r--+ 1 juser  wheel  0 Apr 28 14:06 file1\n",
      "                owner: juser\n",
      "                1: guest deny read\n",
      "                2: admin allow write\n",
      "              # chmod +a \"admin allow delete\" file1\n",
      "              # ls -le\n",
      "              -rw-r--r--+ 1 juser  wheel  0 Apr 28 14:06 file1\n",
      "                owner: juser\n",
      "                1: guest deny read\n",
      "                2: admin allow write,delete\n",
      "              # chmod +a \"User 1:allow:read\" file\n",
      "              # ls -le\n",
      "              -rw-r--r--+ 1 juser  wheel  0 Apr 28 14:06 file1\n",
      "                owner: juser\n",
      "                1: guest deny read\n",
      "                2: User 1 allow read\n",
      "                3: admin allow write,delete\n",
      "\n",
      "             The +a mode strives to maintain correct canonical form for the ACL.\n",
      "                              local deny\n",
      "                              local allow\n",
      "                              inherited deny\n",
      "                              inherited allow\n",
      "\n",
      "             By default, chmod adds entries to the top of the local deny and\n",
      "             local allow lists. Inherited entries are added by using the +ai\n",
      "             mode.\n",
      "\n",
      "             Examples\n",
      "              # ls -le\n",
      "              -rw-r--r--+ 1 juser  wheel  0 Apr 28 14:06 file1\n",
      "                owner: juser\n",
      "                1: guest deny read\n",
      "                2: admin allow write,delete\n",
      "                3: juser inherited deny delete\n",
      "                4: admin inherited allow delete\n",
      "                5: backup inherited deny read\n",
      "                6: admin inherited allow write-security\n",
      "              # chmod +ai \"others allow read\" file1\n",
      "              # ls -le\n",
      "              -rw-r--r--+ 1 juser  wheel  0 Apr 28 14:06 file1\n",
      "                owner: juser\n",
      "                1: guest deny read\n",
      "                2: admin allow write,delete\n",
      "                3: juser inherited deny delete\n",
      "                4: others inherited allow read\n",
      "                5: admin inherited allow delete\n",
      "                6: backup inherited deny read\n",
      "                7: admin inherited allow write-security\n",
      "\n",
      "     +a#     When a specific ordering is required, the exact location at which\n",
      "             an entry will be inserted is specified with the +a# mode.\n",
      "\n",
      "             Examples\n",
      "              # ls -le\n",
      "              -rw-r--r--+ 1 juser  wheel  0 Apr 28 14:06 file1\n",
      "                owner: juser\n",
      "                1: guest deny read\n",
      "                2: admin allow write\n",
      "              # chmod +a# 2 \"others deny read\" file1\n",
      "              # ls -le\n",
      "              -rw-r--r--+ 1 juser  wheel  0 Apr 28 14:06 file1\n",
      "                owner: juser\n",
      "                1: guest deny read\n",
      "                2: others deny read\n",
      "                3: admin allow write\n",
      "\n",
      "             The +ai# mode may be used to insert inherited entries at a specific\n",
      "             location. Note that these modes allow non-canonical ACL ordering to\n",
      "             be constructed.\n",
      "\n",
      "     -a      The -a mode is used to delete ACL entries. All entries exactly\n",
      "             matching the supplied entry will be deleted. If the entry lists a\n",
      "             subset of rights granted by an entry, only the rights listed are\n",
      "             removed. Entries may also be deleted by index using the -a# mode.\n",
      "\n",
      "             Examples\n",
      "              # ls -le\n",
      "              -rw-r--r--+ 1 juser  wheel  0 Apr 28 14:06 file1\n",
      "                owner: juser\n",
      "                1: guest deny read\n",
      "                2: admin allow write,delete\n",
      "              # chmod -a# 1 file1\n",
      "              # ls -le\n",
      "              -rw-r--r--+ 1 juser  wheel  0 Apr 28 14:06 file1\n",
      "                owner: juser\n",
      "                1: admin allow write,delete\n",
      "              # chmod -a \"admin allow write\" file1\n",
      "              # ls -le\n",
      "              -rw-r--r--+ 1 juser  wheel  0 Apr 28 14:06 file1\n",
      "                owner: juser\n",
      "                1: admin allow delete\n",
      "\n",
      "             Inheritance is not considered when processing the -a mode; rights\n",
      "             and entries will be removed regardless of their inherited state.\n",
      "\n",
      "             If the user or group name contains spaces you can use ':' as the\n",
      "             delimiter\n",
      "\n",
      "             Example\n",
      "              # chmod +a \"User 1:allow:read\" file\n",
      "\n",
      "     =a#     Individual entries are rewritten using the =a# mode.\n",
      "\n",
      "             Examples\n",
      "              # ls -le\n",
      "              -rw-r--r--+ 1 juser  wheel  0 Apr 28 14:06 file1\n",
      "                owner: juser\n",
      "                1: admin allow delete\n",
      "              # chmod =a# 1 \"admin allow write,chown\"\n",
      "              # ls -le\n",
      "              -rw-r--r--+ 1 juser  wheel  0 Apr 28 14:06 file1\n",
      "                owner: juser\n",
      "                1: admin allow write,chown\n",
      "\n",
      "             This mode may not be used to add new entries.\n",
      "\n",
      "     -E      Reads the ACL information from stdin, as a sequential list of ACEs,\n",
      "             separated by newlines.  If the information parses correctly, the\n",
      "             existing information is replaced.\n",
      "\n",
      "     -C      Returns false if any of the named files have ACLs in non-canonical\n",
      "             order.\n",
      "\n",
      "     -i      Removes the 'inherited' bit from all entries in the named file(s)\n",
      "             ACLs.\n",
      "\n",
      "     -I      Removes all inherited entries from the named file(s) ACL(s).\n",
      "\n",
      "     -N      Removes the ACL from the named file(s).\n",
      "\n",
      "COMPATIBILITY\n",
      "     The -v option is non-standard and its use in scripts is not recommended.\n",
      "\n",
      "SEE ALSO\n",
      "     chflags(1), install(1), chmod(2), stat(2), umask(2), fts(3), setmode(3),\n",
      "     sticky(7), symlink(7), chown(8), mount(8)\n",
      "\n",
      "STANDARDS\n",
      "     The chmod utility is expected to be IEEE Std 1003.2 (“POSIX.2”) compatible\n",
      "     with the exception of the perm symbol “t” which is not included in that\n",
      "     standard.\n",
      "\n",
      "HISTORY\n",
      "     A chmod command appeared in Version 1 AT&T UNIX.\n",
      "\n",
      "BUGS\n",
      "     There is no perm option for the naughty bits of a horse.\n",
      "\n",
      "macOS 12.5                       January 7, 2017                      macOS 12.5\n"
     ]
    }
   ],
   "source": [
    "!man chmod"
   ]
  },
  {
   "cell_type": "markdown",
   "metadata": {},
   "source": [
    "`chmod`는 파일의 권한을 수정하는 명령어입니다. 숫자 또는 예약어를 통해 소유자, 소유 그룹, 다른 모든 사람들의 읽기, 쓰기, 실행 권한을 수정할 수 있습니다."
   ]
  },
  {
   "cell_type": "markdown",
   "metadata": {},
   "source": [
    "8. chmod를 활용해 sh semester 대신에 ./semester을 사용 가능하게 해보세요. sh을 이용해 이 파일을 해석해야 한다는 것을 셸이 어떻게 알까요? 이 페이지에서 셔뱅(shebang)에 대해서 더 알아보세요."
   ]
  },
  {
   "cell_type": "code",
   "execution_count": 42,
   "metadata": {},
   "outputs": [],
   "source": [
    "!chmod u=rwx,go=rx semester"
   ]
  },
  {
   "cell_type": "code",
   "execution_count": 43,
   "metadata": {},
   "outputs": [
    {
     "name": "stdout",
     "output_type": "stream",
     "text": [
      "total 8\n",
      "-rwxr-xr-x  1 hyk  wheel  62 Dec  8 16:54 \u001b[31msemester\u001b[m\u001b[m\n"
     ]
    }
   ],
   "source": [
    "!ls -l"
   ]
  },
  {
   "cell_type": "markdown",
   "metadata": {},
   "source": [
    "위와 같이 권한이 `-rw-r--r--`에서 `-rwxr-xr-x`로 수정되었음을 알 수 있습니다. 모든 사용자가 실행 권한을 가지고 있기 때문에, `./semester`을 통한 접속도 가능할 것입니다."
   ]
  },
  {
   "cell_type": "code",
   "execution_count": 44,
   "metadata": {},
   "outputs": [
    {
     "name": "stdout",
     "output_type": "stream",
     "text": [
      "HTTP/2 200 \n",
      "\u001b[1mserver\u001b[0m: GitHub.com\n",
      "\u001b[1mcontent-type\u001b[0m: text/html; charset=utf-8\n",
      "\u001b[1mlast-modified\u001b[0m: Mon, 05 Dec 2022 15:59:23 GMT\n",
      "\u001b[1maccess-control-allow-origin\u001b[0m: *\n",
      "\u001b[1metag\u001b[0m: \"638e155b-1f37\"\n",
      "\u001b[1mexpires\u001b[0m: Mon, 05 Dec 2022 17:56:30 GMT\n",
      "\u001b[1mcache-control\u001b[0m: max-age=600\n",
      "\u001b[1mx-proxy-cache\u001b[0m: MISS\n",
      "\u001b[1mx-github-request-id\u001b[0m: 3D04:7A94:4B80:17691:638E2E76\n",
      "\u001b[1maccept-ranges\u001b[0m: bytes\n",
      "\u001b[1mdate\u001b[0m: Thu, 08 Dec 2022 08:27:23 GMT\n",
      "\u001b[1mvia\u001b[0m: 1.1 varnish\n",
      "\u001b[1mage\u001b[0m: 0\n",
      "\u001b[1mx-served-by\u001b[0m: cache-nrt-rjtf7700029-NRT\n",
      "\u001b[1mx-cache\u001b[0m: HIT\n",
      "\u001b[1mx-cache-hits\u001b[0m: 1\n",
      "\u001b[1mx-timer\u001b[0m: S1670488044.617282,VS0,VE220\n",
      "\u001b[1mvary\u001b[0m: Accept-Encoding\n",
      "\u001b[1mx-fastly-request-id\u001b[0m: 7da9cf240d64e552531be45064755f40dc65c6bd\n",
      "\u001b[1mcontent-length\u001b[0m: 7991\n",
      "\n"
     ]
    }
   ],
   "source": [
    "!./semester"
   ]
  },
  {
   "cell_type": "markdown",
   "metadata": {},
   "source": [
    "좋습니다!"
   ]
  },
  {
   "cell_type": "markdown",
   "metadata": {},
   "source": [
    "9. | 와 >를 사용해 semester별 “last modified” 날짜 출력을 홈 디렉토리에 last-modified.txt라는 파일에 작성하세요."
   ]
  },
  {
   "cell_type": "markdown",
   "metadata": {},
   "source": [
    "`grep`은 문자가 존재하는 라인을 추출합니다."
   ]
  },
  {
   "cell_type": "code",
   "execution_count": 67,
   "metadata": {},
   "outputs": [
    {
     "name": "stdout",
     "output_type": "stream",
     "text": [
      "last-modified: Mon, 05 Dec 2022 15:59:23 GMT\n"
     ]
    }
   ],
   "source": [
    "!sh semester | grep --ignore-case 'last-modified'"
   ]
  },
  {
   "cell_type": "markdown",
   "metadata": {},
   "source": [
    "MacOS에서 `cut` 명령어를 사용할 때는 자를 기준점을 지정해 주어야 합니다. byte, 문자, 구두점 중 선택 가능합니다. 구두점의 경우 `-f` 옵션을 지정하고 `-d` 옵션 뒤에 구두점을 적습니다."
   ]
  },
  {
   "cell_type": "code",
   "execution_count": 70,
   "metadata": {},
   "outputs": [
    {
     "name": "stdout",
     "output_type": "stream",
     "text": [
      " Mon, 05 Dec 2022 15\n"
     ]
    }
   ],
   "source": [
    "!sh semester | grep --ignore-case 'last-modified' | cut -d : -f 2"
   ]
  },
  {
   "cell_type": "markdown",
   "metadata": {},
   "source": [
    "아래와 같이 `>`를 사용하여 저장합니다. home 디렉토리는 `~`로 접근합니다."
   ]
  },
  {
   "cell_type": "code",
   "execution_count": 71,
   "metadata": {},
   "outputs": [],
   "source": [
    "!sh semester | grep --ignore-case 'last-modified' | cut -d : -f 2 > ~/last-modified.txt"
   ]
  },
  {
   "cell_type": "code",
   "execution_count": 72,
   "metadata": {},
   "outputs": [
    {
     "name": "stdout",
     "output_type": "stream",
     "text": [
      " Mon, 05 Dec 2022 15\n"
     ]
    }
   ],
   "source": [
    "!cat ~/last-modified.txt"
   ]
  }
 ],
 "metadata": {
  "kernelspec": {
   "display_name": "Python 3.10.7 64-bit",
   "language": "python",
   "name": "python3"
  },
  "language_info": {
   "codemirror_mode": {
    "name": "ipython",
    "version": 3
   },
   "file_extension": ".py",
   "mimetype": "text/x-python",
   "name": "python",
   "nbconvert_exporter": "python",
   "pygments_lexer": "ipython3",
   "version": "3.10.7"
  },
  "orig_nbformat": 4,
  "vscode": {
   "interpreter": {
    "hash": "98590ff4fe04c8543246b2a01debd3de3c5ca9b666f43f1fa87d5110c692004c"
   }
  }
 },
 "nbformat": 4,
 "nbformat_minor": 2
}
